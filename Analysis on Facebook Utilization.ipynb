{
 "cells": [
  {
   "cell_type": "markdown",
   "metadata": {
    "colab_type": "text",
    "id": "9ku0h8OsoHJz"
   },
   "source": [
    "<p align=\"center\"><img src=\"https://github.com/insaid2018/Term-1/blob/master/Images/INSAID_Full%20Logo.png?raw=true\" width=\"260\" height=\"110\" /></p>"
   ]
  },
  {
   "cell_type": "markdown",
   "metadata": {
    "colab_type": "text",
    "id": "NWvRwRdGoK5Y"
   },
   "source": [
    "---\n",
    "# **Table of Contents**\n",
    "---\n",
    "\n",
    "1. [**Introduction**](#Section1)<br>\n",
    "2. [**Problem Statement**](#Section2)<br>\n",
    "3. [**Installing & Importing Libraries**](#Section3)<br>\n",
    "  3.1 [**Installing Libraries**](#Section31)<br>\n",
    "  3.2 [**Upgrading Libraries**](#Section32)<br>\n",
    "  3.3 [**Importing Libraries**](#Section33)<br>\n",
    "4. [**Data Acquisition & Description**](#Section4)<br>\n",
    "5. [**Data Pre-Profiling**](#Section5)<br>\n",
    "6. [**Data Pre-Processing**](#Section6)<br>\n",
    "7. [**Data Post-Profiling**](#Section7)<br>\n",
    "8. [**Exploratory Data Analysis**](#Section8)<br>\n",
    "9. [**Summarization**](#Section9)</br>\n",
    "  9.1 [**Conclusion**](#Section91)</br>\n",
    "  9.2 [**Actionable Insights**](#Section91)</br>\n",
    "\n",
    "---"
   ]
  },
  {
   "cell_type": "markdown",
   "metadata": {
    "colab_type": "text",
    "id": "iACv_4iIoaLi"
   },
   "source": [
    "---\n",
    "<a name = Section1></a>\n",
    "# **1. Introduction**\n",
    "---\n",
    "\n",
    "- Write down some interesting introduction related to the topic.\n",
    "\n",
    "- Surf out over the internet and do some research about what is happening in real life.\n",
    "\n",
    "- Try out and make some concrete points about your point of view."
   ]
  },
  {
   "cell_type": "markdown",
   "metadata": {
    "colab_type": "text",
    "id": "sOGJAM3AoePy"
   },
   "source": [
    "---\n",
    "<a name = Section2></a>\n",
    "# **2. Problem Statement**\n",
    "---\n",
    "\n",
    "- This section is emphasised on providing some generic introduction to the problem that most companies confronts.\n",
    "- **Example Problem Statement:**\n",
    "\n",
    "  - This era has been under the influence of rapid development for the past few years.\n",
    "\n",
    "  - Most of the time social applications fails to stay up to date, resulting in great loss to the company.\n",
    "\n",
    "  - Unlike any other incorporation, Facebook has become quite popular in the past few years, more specifically since 2005.\n",
    "\n",
    "  - People from all over the world are still using it as a medium to share their thoughts and feelings among others.\n",
    "\n",
    "  - With the rise in the popularity of the application it is very necessary to stay updated and they are trying really hard...\n",
    "  \n",
    "<p align=\"center\"><img src=\"https://chi2016.acm.org/wp/wp-content/uploads/2016/02/Facebook-06-2015-Blue.png\"></p>\n",
    "\n",
    "- Derive a scenario related to the problem statement and heads on to the journey of exploration.\n",
    "\n",
    "- **Example Scenario:**\n",
    "  - Facebook, Inc. is an American social media conglomerate corporation, founded on February, 2004 by Mark Zuckerberg.\n",
    "\n",
    "  - People from all age groups are connected with each other through facebook.\n",
    "\n",
    "  - However, there are certain differences in the way of using it, let's say sending friend requests, sending likes, comments etc.\n",
    "\n",
    "  - Let's say they want to study and analyze these differences and identify the pattern out of it.\n",
    "\n",
    "  - This is result will help the company to utilize these patterns in the next set of iteration development.\n",
    "\n",
    "  - Maybe this hidden pattern could end up improving their application and the user experience.\n",
    "\n",
    "  - To tackle this problem they hired a genius team of data scientists. Consider you are one of them..."
   ]
  },
  {
   "cell_type": "markdown",
   "metadata": {
    "colab_type": "text",
    "id": "yzSAH3m9pLWi"
   },
   "source": [
    "---\n",
    "<a id = Section3></a>\n",
    "# **3. Installing & Importing Libraries**\n",
    "---\n",
    "\n",
    "- This section is emphasised on installing and importing the necessary libraries that will be required."
   ]
  },
  {
   "cell_type": "markdown",
   "metadata": {
    "colab_type": "text",
    "id": "M0y7joFPpOuQ"
   },
   "source": [
    "### **Installing Libraries**"
   ]
  },
  {
   "cell_type": "code",
   "execution_count": 1,
   "metadata": {
    "colab": {},
    "colab_type": "code",
    "id": "S3pqantTnmxX"
   },
   "outputs": [],
   "source": [
    "!pip install -q datascience\n",
    "!pip install -q pandas-profiling"
   ]
  },
  {
   "cell_type": "markdown",
   "metadata": {
    "colab_type": "text",
    "id": "pYQrkcl4pe8J"
   },
   "source": [
    "### **Upgrading Libraries**\n",
    "\n",
    "- **After upgrading** the libraries, you need to **restart the runtime** to make the libraries in sync.\n",
    "\n",
    "- Make sure not to execute the cell under Installing Libraries and Upgrading Libraries again after restarting the runtime."
   ]
  },
  {
   "cell_type": "code",
   "execution_count": 2,
   "metadata": {
    "colab": {},
    "colab_type": "code",
    "id": "dmiiVvd-phhY"
   },
   "outputs": [],
   "source": [
    "!pip install -q --upgrade pandas-profiling"
   ]
  },
  {
   "cell_type": "markdown",
   "metadata": {
    "colab_type": "text",
    "id": "PbyRyjDhpoJj"
   },
   "source": [
    "### **Importing Libraries**\n",
    "\n",
    "- You can headstart with the basic libraries as imported inside the cell below.\n",
    "\n",
    "- If you want to import some additional libraries, feel free to do so.\n"
   ]
  },
  {
   "cell_type": "code",
   "execution_count": 3,
   "metadata": {
    "colab": {},
    "colab_type": "code",
    "id": "5RapekFlpptb"
   },
   "outputs": [],
   "source": [
    "#import libraries\n",
    "import matplotlib.pyplot as plt\n",
    "from matplotlib.patches import Patch\n",
    "import pandas as pd\n",
    "import numpy as np\n",
    "import seaborn as sns"
   ]
  },
  {
   "cell_type": "markdown",
   "metadata": {
    "colab_type": "text",
    "id": "ys9Qb4OlpzvZ"
   },
   "source": [
    "---\n",
    "<a name = Section4></a>\n",
    "# **4. Data Acquisition & Description**\n",
    "---\n",
    "\n",
    "- This section is emphasised on the accquiring the data and obtain some descriptive information out of it.\n",
    "\n",
    "- You could either scrap the data and then continue, or use a direct source of link (generally preferred in most cases).\n",
    "\n",
    "- You will be working with a direct source of link to head start your work without worrying about anything.\n",
    "\n",
    "- Before going further you must have a good idea about the features of the data set:\n",
    "\n",
    "|Id|Feature|Description|\n",
    "|:--|:--|:--|\n",
    "|01| userid                 | A numeric value uniquely identifying the user.|\n",
    "|02| age                    | Age of the user in years.|\n",
    "|03| dob_day                | Day part of the user's date of birth.|\n",
    "|04| dob_year               | Year part of the user's date of birth.| \n",
    "|05| dob_month              | Month part of the user's date of birth.|\n",
    "|06| gender                 | Gender of the user.| \n",
    "|07| tenure                 | Number of days since the user has been on FB.|\n",
    "|08| friend_count           | Number of friends the user has.|\n",
    "|09| friendships_initiated  | Number of friendships initiated by the user.|\n",
    "|10| likes                  | Total number of posts liked by the user.|\n",
    "|11| likes_received         | Total Number of likes received by user's posts.|\n",
    "|12| mobile_likes           | Number of posts liked by the user through mobile app.|\n",
    "|13| mobile_likes_received  | Number of likes received by user through mobile app.|\n",
    "|14| www_likes              | Number of posts liked by the user through web.|\n",
    "|15| www_likes_received     | Number of likes received by user  through web.| \n"
   ]
  },
  {
   "cell_type": "code",
   "execution_count": 4,
   "metadata": {
    "colab": {
     "base_uri": "https://localhost:8080/",
     "height": 241
    },
    "colab_type": "code",
    "executionInfo": {
     "elapsed": 2545,
     "status": "ok",
     "timestamp": 1600335417318,
     "user": {
      "displayName": "Mukesh Kumar",
      "photoUrl": "",
      "userId": "01238672520445611335"
     },
     "user_tz": -330
    },
    "id": "aXPrewndpw1T",
    "outputId": "ac37750c-ec12-473e-c6ad-7dc76cb76176"
   },
   "outputs": [
    {
     "data": {
      "text/html": [
       "<div>\n",
       "<style scoped>\n",
       "    .dataframe tbody tr th:only-of-type {\n",
       "        vertical-align: middle;\n",
       "    }\n",
       "\n",
       "    .dataframe tbody tr th {\n",
       "        vertical-align: top;\n",
       "    }\n",
       "\n",
       "    .dataframe thead th {\n",
       "        text-align: right;\n",
       "    }\n",
       "</style>\n",
       "<table border=\"1\" class=\"dataframe\">\n",
       "  <thead>\n",
       "    <tr style=\"text-align: right;\">\n",
       "      <th></th>\n",
       "      <th>userid</th>\n",
       "      <th>age</th>\n",
       "      <th>dob_day</th>\n",
       "      <th>dob_year</th>\n",
       "      <th>dob_month</th>\n",
       "      <th>gender</th>\n",
       "      <th>tenure</th>\n",
       "      <th>friend_count</th>\n",
       "      <th>friendships_initiated</th>\n",
       "      <th>likes</th>\n",
       "      <th>likes_received</th>\n",
       "      <th>mobile_likes</th>\n",
       "      <th>mobile_likes_received</th>\n",
       "      <th>www_likes</th>\n",
       "      <th>www_likes_received</th>\n",
       "    </tr>\n",
       "  </thead>\n",
       "  <tbody>\n",
       "    <tr>\n",
       "      <th>0</th>\n",
       "      <td>2094382</td>\n",
       "      <td>14</td>\n",
       "      <td>19</td>\n",
       "      <td>1999</td>\n",
       "      <td>11</td>\n",
       "      <td>male</td>\n",
       "      <td>266.0</td>\n",
       "      <td>0</td>\n",
       "      <td>0</td>\n",
       "      <td>0</td>\n",
       "      <td>0</td>\n",
       "      <td>0</td>\n",
       "      <td>0</td>\n",
       "      <td>0</td>\n",
       "      <td>0</td>\n",
       "    </tr>\n",
       "    <tr>\n",
       "      <th>1</th>\n",
       "      <td>1192601</td>\n",
       "      <td>14</td>\n",
       "      <td>2</td>\n",
       "      <td>1999</td>\n",
       "      <td>11</td>\n",
       "      <td>female</td>\n",
       "      <td>6.0</td>\n",
       "      <td>0</td>\n",
       "      <td>0</td>\n",
       "      <td>0</td>\n",
       "      <td>0</td>\n",
       "      <td>0</td>\n",
       "      <td>0</td>\n",
       "      <td>0</td>\n",
       "      <td>0</td>\n",
       "    </tr>\n",
       "    <tr>\n",
       "      <th>2</th>\n",
       "      <td>2083884</td>\n",
       "      <td>14</td>\n",
       "      <td>16</td>\n",
       "      <td>1999</td>\n",
       "      <td>11</td>\n",
       "      <td>male</td>\n",
       "      <td>13.0</td>\n",
       "      <td>0</td>\n",
       "      <td>0</td>\n",
       "      <td>0</td>\n",
       "      <td>0</td>\n",
       "      <td>0</td>\n",
       "      <td>0</td>\n",
       "      <td>0</td>\n",
       "      <td>0</td>\n",
       "    </tr>\n",
       "    <tr>\n",
       "      <th>3</th>\n",
       "      <td>1203168</td>\n",
       "      <td>14</td>\n",
       "      <td>25</td>\n",
       "      <td>1999</td>\n",
       "      <td>12</td>\n",
       "      <td>female</td>\n",
       "      <td>93.0</td>\n",
       "      <td>0</td>\n",
       "      <td>0</td>\n",
       "      <td>0</td>\n",
       "      <td>0</td>\n",
       "      <td>0</td>\n",
       "      <td>0</td>\n",
       "      <td>0</td>\n",
       "      <td>0</td>\n",
       "    </tr>\n",
       "    <tr>\n",
       "      <th>4</th>\n",
       "      <td>1733186</td>\n",
       "      <td>14</td>\n",
       "      <td>4</td>\n",
       "      <td>1999</td>\n",
       "      <td>12</td>\n",
       "      <td>male</td>\n",
       "      <td>82.0</td>\n",
       "      <td>0</td>\n",
       "      <td>0</td>\n",
       "      <td>0</td>\n",
       "      <td>0</td>\n",
       "      <td>0</td>\n",
       "      <td>0</td>\n",
       "      <td>0</td>\n",
       "      <td>0</td>\n",
       "    </tr>\n",
       "    <tr>\n",
       "      <th>5</th>\n",
       "      <td>1524765</td>\n",
       "      <td>14</td>\n",
       "      <td>1</td>\n",
       "      <td>1999</td>\n",
       "      <td>12</td>\n",
       "      <td>male</td>\n",
       "      <td>15.0</td>\n",
       "      <td>0</td>\n",
       "      <td>0</td>\n",
       "      <td>0</td>\n",
       "      <td>0</td>\n",
       "      <td>0</td>\n",
       "      <td>0</td>\n",
       "      <td>0</td>\n",
       "      <td>0</td>\n",
       "    </tr>\n",
       "    <tr>\n",
       "      <th>6</th>\n",
       "      <td>1136133</td>\n",
       "      <td>13</td>\n",
       "      <td>14</td>\n",
       "      <td>2000</td>\n",
       "      <td>1</td>\n",
       "      <td>male</td>\n",
       "      <td>12.0</td>\n",
       "      <td>0</td>\n",
       "      <td>0</td>\n",
       "      <td>0</td>\n",
       "      <td>0</td>\n",
       "      <td>0</td>\n",
       "      <td>0</td>\n",
       "      <td>0</td>\n",
       "      <td>0</td>\n",
       "    </tr>\n",
       "    <tr>\n",
       "      <th>7</th>\n",
       "      <td>1680361</td>\n",
       "      <td>13</td>\n",
       "      <td>4</td>\n",
       "      <td>2000</td>\n",
       "      <td>1</td>\n",
       "      <td>female</td>\n",
       "      <td>0.0</td>\n",
       "      <td>0</td>\n",
       "      <td>0</td>\n",
       "      <td>0</td>\n",
       "      <td>0</td>\n",
       "      <td>0</td>\n",
       "      <td>0</td>\n",
       "      <td>0</td>\n",
       "      <td>0</td>\n",
       "    </tr>\n",
       "    <tr>\n",
       "      <th>8</th>\n",
       "      <td>1365174</td>\n",
       "      <td>13</td>\n",
       "      <td>1</td>\n",
       "      <td>2000</td>\n",
       "      <td>1</td>\n",
       "      <td>male</td>\n",
       "      <td>81.0</td>\n",
       "      <td>0</td>\n",
       "      <td>0</td>\n",
       "      <td>0</td>\n",
       "      <td>0</td>\n",
       "      <td>0</td>\n",
       "      <td>0</td>\n",
       "      <td>0</td>\n",
       "      <td>0</td>\n",
       "    </tr>\n",
       "    <tr>\n",
       "      <th>9</th>\n",
       "      <td>1712567</td>\n",
       "      <td>13</td>\n",
       "      <td>2</td>\n",
       "      <td>2000</td>\n",
       "      <td>2</td>\n",
       "      <td>male</td>\n",
       "      <td>171.0</td>\n",
       "      <td>0</td>\n",
       "      <td>0</td>\n",
       "      <td>0</td>\n",
       "      <td>0</td>\n",
       "      <td>0</td>\n",
       "      <td>0</td>\n",
       "      <td>0</td>\n",
       "      <td>0</td>\n",
       "    </tr>\n",
       "  </tbody>\n",
       "</table>\n",
       "</div>"
      ],
      "text/plain": [
       "    userid  age  dob_day  dob_year  dob_month  gender  tenure  friend_count  \\\n",
       "0  2094382   14       19      1999         11    male   266.0             0   \n",
       "1  1192601   14        2      1999         11  female     6.0             0   \n",
       "2  2083884   14       16      1999         11    male    13.0             0   \n",
       "3  1203168   14       25      1999         12  female    93.0             0   \n",
       "4  1733186   14        4      1999         12    male    82.0             0   \n",
       "5  1524765   14        1      1999         12    male    15.0             0   \n",
       "6  1136133   13       14      2000          1    male    12.0             0   \n",
       "7  1680361   13        4      2000          1  female     0.0             0   \n",
       "8  1365174   13        1      2000          1    male    81.0             0   \n",
       "9  1712567   13        2      2000          2    male   171.0             0   \n",
       "\n",
       "   friendships_initiated  likes  likes_received  mobile_likes  \\\n",
       "0                      0      0               0             0   \n",
       "1                      0      0               0             0   \n",
       "2                      0      0               0             0   \n",
       "3                      0      0               0             0   \n",
       "4                      0      0               0             0   \n",
       "5                      0      0               0             0   \n",
       "6                      0      0               0             0   \n",
       "7                      0      0               0             0   \n",
       "8                      0      0               0             0   \n",
       "9                      0      0               0             0   \n",
       "\n",
       "   mobile_likes_received  www_likes  www_likes_received  \n",
       "0                      0          0                   0  \n",
       "1                      0          0                   0  \n",
       "2                      0          0                   0  \n",
       "3                      0          0                   0  \n",
       "4                      0          0                   0  \n",
       "5                      0          0                   0  \n",
       "6                      0          0                   0  \n",
       "7                      0          0                   0  \n",
       "8                      0          0                   0  \n",
       "9                      0          0                   0  "
      ]
     },
     "execution_count": 4,
     "metadata": {},
     "output_type": "execute_result"
    }
   ],
   "source": [
    "# Facebook data analysis\n",
    "facebook_df = pd.read_csv(\"https://github.com/insaid2018/Term-1/raw/master/Data/Projects/facebook_data.csv\")\n",
    "facebook_df.head(10)"
   ]
  },
  {
   "cell_type": "markdown",
   "metadata": {
    "colab_type": "text",
    "id": "FfkdFrL_qMPn"
   },
   "source": [
    "### **Data Description**\n",
    "\n",
    "- To get some quick description out of the data you can use describe method defined in pandas library."
   ]
  },
  {
   "cell_type": "code",
   "execution_count": 5,
   "metadata": {
    "colab": {},
    "colab_type": "code",
    "id": "cLs4jsSuqJjC"
   },
   "outputs": [
    {
     "data": {
      "text/html": [
       "<div>\n",
       "<style scoped>\n",
       "    .dataframe tbody tr th:only-of-type {\n",
       "        vertical-align: middle;\n",
       "    }\n",
       "\n",
       "    .dataframe tbody tr th {\n",
       "        vertical-align: top;\n",
       "    }\n",
       "\n",
       "    .dataframe thead th {\n",
       "        text-align: right;\n",
       "    }\n",
       "</style>\n",
       "<table border=\"1\" class=\"dataframe\">\n",
       "  <thead>\n",
       "    <tr style=\"text-align: right;\">\n",
       "      <th></th>\n",
       "      <th>userid</th>\n",
       "      <th>age</th>\n",
       "      <th>dob_day</th>\n",
       "      <th>dob_year</th>\n",
       "      <th>dob_month</th>\n",
       "      <th>tenure</th>\n",
       "      <th>friend_count</th>\n",
       "      <th>friendships_initiated</th>\n",
       "      <th>likes</th>\n",
       "      <th>likes_received</th>\n",
       "      <th>mobile_likes</th>\n",
       "      <th>mobile_likes_received</th>\n",
       "      <th>www_likes</th>\n",
       "      <th>www_likes_received</th>\n",
       "    </tr>\n",
       "  </thead>\n",
       "  <tbody>\n",
       "    <tr>\n",
       "      <th>count</th>\n",
       "      <td>9.900300e+04</td>\n",
       "      <td>99003.000000</td>\n",
       "      <td>99003.000000</td>\n",
       "      <td>99003.000000</td>\n",
       "      <td>99003.000000</td>\n",
       "      <td>99001.000000</td>\n",
       "      <td>99003.000000</td>\n",
       "      <td>99003.000000</td>\n",
       "      <td>99003.000000</td>\n",
       "      <td>99003.000000</td>\n",
       "      <td>99003.000000</td>\n",
       "      <td>99003.000000</td>\n",
       "      <td>99003.000000</td>\n",
       "      <td>99003.000000</td>\n",
       "    </tr>\n",
       "    <tr>\n",
       "      <th>mean</th>\n",
       "      <td>1.597045e+06</td>\n",
       "      <td>37.280224</td>\n",
       "      <td>14.530408</td>\n",
       "      <td>1975.719776</td>\n",
       "      <td>6.283365</td>\n",
       "      <td>537.887375</td>\n",
       "      <td>196.350787</td>\n",
       "      <td>107.452471</td>\n",
       "      <td>156.078785</td>\n",
       "      <td>142.689363</td>\n",
       "      <td>106.116300</td>\n",
       "      <td>84.120491</td>\n",
       "      <td>49.962425</td>\n",
       "      <td>58.568831</td>\n",
       "    </tr>\n",
       "    <tr>\n",
       "      <th>std</th>\n",
       "      <td>3.440592e+05</td>\n",
       "      <td>22.589748</td>\n",
       "      <td>9.015606</td>\n",
       "      <td>22.589748</td>\n",
       "      <td>3.529672</td>\n",
       "      <td>457.649874</td>\n",
       "      <td>387.304229</td>\n",
       "      <td>188.786951</td>\n",
       "      <td>572.280681</td>\n",
       "      <td>1387.919613</td>\n",
       "      <td>445.252985</td>\n",
       "      <td>839.889444</td>\n",
       "      <td>285.560152</td>\n",
       "      <td>601.416348</td>\n",
       "    </tr>\n",
       "    <tr>\n",
       "      <th>min</th>\n",
       "      <td>1.000008e+06</td>\n",
       "      <td>13.000000</td>\n",
       "      <td>1.000000</td>\n",
       "      <td>1900.000000</td>\n",
       "      <td>1.000000</td>\n",
       "      <td>0.000000</td>\n",
       "      <td>0.000000</td>\n",
       "      <td>0.000000</td>\n",
       "      <td>0.000000</td>\n",
       "      <td>0.000000</td>\n",
       "      <td>0.000000</td>\n",
       "      <td>0.000000</td>\n",
       "      <td>0.000000</td>\n",
       "      <td>0.000000</td>\n",
       "    </tr>\n",
       "    <tr>\n",
       "      <th>25%</th>\n",
       "      <td>1.298806e+06</td>\n",
       "      <td>20.000000</td>\n",
       "      <td>7.000000</td>\n",
       "      <td>1963.000000</td>\n",
       "      <td>3.000000</td>\n",
       "      <td>226.000000</td>\n",
       "      <td>31.000000</td>\n",
       "      <td>17.000000</td>\n",
       "      <td>1.000000</td>\n",
       "      <td>1.000000</td>\n",
       "      <td>0.000000</td>\n",
       "      <td>0.000000</td>\n",
       "      <td>0.000000</td>\n",
       "      <td>0.000000</td>\n",
       "    </tr>\n",
       "    <tr>\n",
       "      <th>50%</th>\n",
       "      <td>1.596148e+06</td>\n",
       "      <td>28.000000</td>\n",
       "      <td>14.000000</td>\n",
       "      <td>1985.000000</td>\n",
       "      <td>6.000000</td>\n",
       "      <td>412.000000</td>\n",
       "      <td>82.000000</td>\n",
       "      <td>46.000000</td>\n",
       "      <td>11.000000</td>\n",
       "      <td>8.000000</td>\n",
       "      <td>4.000000</td>\n",
       "      <td>4.000000</td>\n",
       "      <td>0.000000</td>\n",
       "      <td>2.000000</td>\n",
       "    </tr>\n",
       "    <tr>\n",
       "      <th>75%</th>\n",
       "      <td>1.895744e+06</td>\n",
       "      <td>50.000000</td>\n",
       "      <td>22.000000</td>\n",
       "      <td>1993.000000</td>\n",
       "      <td>9.000000</td>\n",
       "      <td>675.000000</td>\n",
       "      <td>206.000000</td>\n",
       "      <td>117.000000</td>\n",
       "      <td>81.000000</td>\n",
       "      <td>59.000000</td>\n",
       "      <td>46.000000</td>\n",
       "      <td>33.000000</td>\n",
       "      <td>7.000000</td>\n",
       "      <td>20.000000</td>\n",
       "    </tr>\n",
       "    <tr>\n",
       "      <th>max</th>\n",
       "      <td>2.193542e+06</td>\n",
       "      <td>113.000000</td>\n",
       "      <td>31.000000</td>\n",
       "      <td>2000.000000</td>\n",
       "      <td>12.000000</td>\n",
       "      <td>3139.000000</td>\n",
       "      <td>4923.000000</td>\n",
       "      <td>4144.000000</td>\n",
       "      <td>25111.000000</td>\n",
       "      <td>261197.000000</td>\n",
       "      <td>25111.000000</td>\n",
       "      <td>138561.000000</td>\n",
       "      <td>14865.000000</td>\n",
       "      <td>129953.000000</td>\n",
       "    </tr>\n",
       "  </tbody>\n",
       "</table>\n",
       "</div>"
      ],
      "text/plain": [
       "             userid           age       dob_day      dob_year     dob_month  \\\n",
       "count  9.900300e+04  99003.000000  99003.000000  99003.000000  99003.000000   \n",
       "mean   1.597045e+06     37.280224     14.530408   1975.719776      6.283365   \n",
       "std    3.440592e+05     22.589748      9.015606     22.589748      3.529672   \n",
       "min    1.000008e+06     13.000000      1.000000   1900.000000      1.000000   \n",
       "25%    1.298806e+06     20.000000      7.000000   1963.000000      3.000000   \n",
       "50%    1.596148e+06     28.000000     14.000000   1985.000000      6.000000   \n",
       "75%    1.895744e+06     50.000000     22.000000   1993.000000      9.000000   \n",
       "max    2.193542e+06    113.000000     31.000000   2000.000000     12.000000   \n",
       "\n",
       "             tenure  friend_count  friendships_initiated         likes  \\\n",
       "count  99001.000000  99003.000000           99003.000000  99003.000000   \n",
       "mean     537.887375    196.350787             107.452471    156.078785   \n",
       "std      457.649874    387.304229             188.786951    572.280681   \n",
       "min        0.000000      0.000000               0.000000      0.000000   \n",
       "25%      226.000000     31.000000              17.000000      1.000000   \n",
       "50%      412.000000     82.000000              46.000000     11.000000   \n",
       "75%      675.000000    206.000000             117.000000     81.000000   \n",
       "max     3139.000000   4923.000000            4144.000000  25111.000000   \n",
       "\n",
       "       likes_received  mobile_likes  mobile_likes_received     www_likes  \\\n",
       "count    99003.000000  99003.000000           99003.000000  99003.000000   \n",
       "mean       142.689363    106.116300              84.120491     49.962425   \n",
       "std       1387.919613    445.252985             839.889444    285.560152   \n",
       "min          0.000000      0.000000               0.000000      0.000000   \n",
       "25%          1.000000      0.000000               0.000000      0.000000   \n",
       "50%          8.000000      4.000000               4.000000      0.000000   \n",
       "75%         59.000000     46.000000              33.000000      7.000000   \n",
       "max     261197.000000  25111.000000          138561.000000  14865.000000   \n",
       "\n",
       "       www_likes_received  \n",
       "count        99003.000000  \n",
       "mean            58.568831  \n",
       "std            601.416348  \n",
       "min              0.000000  \n",
       "25%              0.000000  \n",
       "50%              2.000000  \n",
       "75%             20.000000  \n",
       "max         129953.000000  "
      ]
     },
     "execution_count": 5,
     "metadata": {},
     "output_type": "execute_result"
    }
   ],
   "source": [
    "facebook_df.describe()"
   ]
  },
  {
   "cell_type": "markdown",
   "metadata": {
    "colab_type": "text",
    "id": "lM-hljKpqXsp"
   },
   "source": [
    "### **Data Information**"
   ]
  },
  {
   "cell_type": "code",
   "execution_count": 6,
   "metadata": {
    "colab": {},
    "colab_type": "code",
    "id": "aPYZy6voqXc4"
   },
   "outputs": [
    {
     "name": "stdout",
     "output_type": "stream",
     "text": [
      "<class 'pandas.core.frame.DataFrame'>\n",
      "RangeIndex: 99003 entries, 0 to 99002\n",
      "Data columns (total 15 columns):\n",
      " #   Column                 Non-Null Count  Dtype  \n",
      "---  ------                 --------------  -----  \n",
      " 0   userid                 99003 non-null  int64  \n",
      " 1   age                    99003 non-null  int64  \n",
      " 2   dob_day                99003 non-null  int64  \n",
      " 3   dob_year               99003 non-null  int64  \n",
      " 4   dob_month              99003 non-null  int64  \n",
      " 5   gender                 98828 non-null  object \n",
      " 6   tenure                 99001 non-null  float64\n",
      " 7   friend_count           99003 non-null  int64  \n",
      " 8   friendships_initiated  99003 non-null  int64  \n",
      " 9   likes                  99003 non-null  int64  \n",
      " 10  likes_received         99003 non-null  int64  \n",
      " 11  mobile_likes           99003 non-null  int64  \n",
      " 12  mobile_likes_received  99003 non-null  int64  \n",
      " 13  www_likes              99003 non-null  int64  \n",
      " 14  www_likes_received     99003 non-null  int64  \n",
      "dtypes: float64(1), int64(13), object(1)\n",
      "memory usage: 11.3+ MB\n"
     ]
    }
   ],
   "source": [
    "facebook_df.info()"
   ]
  },
  {
   "cell_type": "markdown",
   "metadata": {
    "colab_type": "text",
    "id": "efZ8svauqc55"
   },
   "source": [
    "---\n",
    "<a name = Section5></a>\n",
    "# **5. Data Pre-Profiling**\n",
    "---\n",
    "\n",
    "- This section is emphasised on getting a report about the data.\n",
    "\n",
    "- You need to perform pandas profiling and get some observations out of it..."
   ]
  },
  {
   "cell_type": "code",
   "execution_count": 7,
   "metadata": {
    "colab": {},
    "colab_type": "code",
    "id": "VEHxAq8Zqcgo"
   },
   "outputs": [
    {
     "data": {
      "application/vnd.jupyter.widget-view+json": {
       "model_id": "a4580f461bcb4e4bb97f7994488eb306",
       "version_major": 2,
       "version_minor": 0
      },
      "text/plain": [
       "HBox(children=(FloatProgress(value=0.0, description='Summarize dataset', max=29.0, style=ProgressStyle(descrip…"
      ]
     },
     "metadata": {},
     "output_type": "display_data"
    },
    {
     "name": "stdout",
     "output_type": "stream",
     "text": [
      "\n"
     ]
    },
    {
     "data": {
      "application/vnd.jupyter.widget-view+json": {
       "model_id": "47083d02a21c463abc9928d9a76c74cb",
       "version_major": 2,
       "version_minor": 0
      },
      "text/plain": [
       "HBox(children=(FloatProgress(value=0.0, description='Generate report structure', max=1.0, style=ProgressStyle(…"
      ]
     },
     "metadata": {},
     "output_type": "display_data"
    },
    {
     "name": "stdout",
     "output_type": "stream",
     "text": [
      "\n"
     ]
    },
    {
     "data": {
      "application/vnd.jupyter.widget-view+json": {
       "model_id": "c85b7de43d3a4ffeb7808e3d7828ca6c",
       "version_major": 2,
       "version_minor": 0
      },
      "text/plain": [
       "HBox(children=(FloatProgress(value=0.0, description='Render HTML', max=1.0, style=ProgressStyle(description_wi…"
      ]
     },
     "metadata": {},
     "output_type": "display_data"
    },
    {
     "name": "stdout",
     "output_type": "stream",
     "text": [
      "\n"
     ]
    },
    {
     "data": {
      "application/vnd.jupyter.widget-view+json": {
       "model_id": "9054642a3ae84be487d8d16693a2cf35",
       "version_major": 2,
       "version_minor": 0
      },
      "text/plain": [
       "HBox(children=(FloatProgress(value=0.0, description='Export report to file', max=1.0, style=ProgressStyle(desc…"
      ]
     },
     "metadata": {},
     "output_type": "display_data"
    },
    {
     "name": "stdout",
     "output_type": "stream",
     "text": [
      "\n"
     ]
    }
   ],
   "source": [
    "from pandas_profiling import ProfileReport\n",
    "prof = ProfileReport(facebook_df)\n",
    "prof.to_file(output_file='output.html')"
   ]
  },
  {
   "cell_type": "markdown",
   "metadata": {
    "colab_type": "text",
    "id": "YMvtK0X-qoe6"
   },
   "source": [
    "---\n",
    "<a name = Section6></a>\n",
    "# **6. Data Pre-Processing**\n",
    "---\n",
    "\n",
    "- This section is emphasised on performing data manipulation over unstructured data for further processing and analysis.\n",
    "\n",
    "- To modify unstructured data to strucuted data you need to verify and manipulate the integrity of the data by:\n",
    "  - Handling missing data,\n",
    "\n",
    "  - Handling redundant data,\n",
    "\n",
    "  - Handling inconsistent data,\n",
    "\n",
    "  - Handling outliers,\n",
    "\n",
    "  - Handling typos"
   ]
  },
  {
   "cell_type": "code",
   "execution_count": 8,
   "metadata": {
    "colab": {},
    "colab_type": "code",
    "id": "FxzbSzWDqytZ"
   },
   "outputs": [
    {
     "data": {
      "text/plain": [
       "userid                   0\n",
       "age                      0\n",
       "dob_day                  0\n",
       "dob_year                 0\n",
       "dob_month                0\n",
       "gender                   0\n",
       "tenure                   0\n",
       "friend_count             0\n",
       "friendships_initiated    0\n",
       "likes                    0\n",
       "likes_received           0\n",
       "mobile_likes             0\n",
       "mobile_likes_received    0\n",
       "www_likes                0\n",
       "www_likes_received       0\n",
       "dtype: int64"
      ]
     },
     "execution_count": 8,
     "metadata": {},
     "output_type": "execute_result"
    }
   ],
   "source": [
    "facebook_df[facebook_df.duplicated('userid')].count()"
   ]
  },
  {
   "cell_type": "markdown",
   "metadata": {},
   "source": [
    "- No Duplicate data"
   ]
  },
  {
   "cell_type": "markdown",
   "metadata": {},
   "source": [
    "- There are 2 cells where the tenure is missing. We will fill in 0s in those places."
   ]
  },
  {
   "cell_type": "code",
   "execution_count": 9,
   "metadata": {},
   "outputs": [
    {
     "data": {
      "text/plain": [
       "0"
      ]
     },
     "execution_count": 9,
     "metadata": {},
     "output_type": "execute_result"
    }
   ],
   "source": [
    "facebook_df['tenure'].fillna(0,inplace = True)\n",
    "facebook_df['tenure'].isnull().sum()"
   ]
  },
  {
   "cell_type": "markdown",
   "metadata": {
    "colab_type": "text",
    "id": "amsQwri2q1_J"
   },
   "source": [
    "---\n",
    "<a name = Section7></a>\n",
    "# **7. Data Post-Profiling**\n",
    "---\n",
    "\n",
    "- This section is emphasised on getting a report about the data after the data manipulation.\n",
    "\n",
    "- You may end up observing some new changes, so keep it under check and make right observations."
   ]
  },
  {
   "cell_type": "code",
   "execution_count": 10,
   "metadata": {
    "colab": {},
    "colab_type": "code",
    "id": "87U7K8sWq1y5"
   },
   "outputs": [
    {
     "name": "stdout",
     "output_type": "stream",
     "text": [
      "<class 'pandas.core.frame.DataFrame'>\n",
      "RangeIndex: 99003 entries, 0 to 99002\n",
      "Data columns (total 15 columns):\n",
      " #   Column                 Non-Null Count  Dtype  \n",
      "---  ------                 --------------  -----  \n",
      " 0   userid                 99003 non-null  int64  \n",
      " 1   age                    99003 non-null  int64  \n",
      " 2   dob_day                99003 non-null  int64  \n",
      " 3   dob_year               99003 non-null  int64  \n",
      " 4   dob_month              99003 non-null  int64  \n",
      " 5   gender                 98828 non-null  object \n",
      " 6   tenure                 99003 non-null  float64\n",
      " 7   friend_count           99003 non-null  int64  \n",
      " 8   friendships_initiated  99003 non-null  int64  \n",
      " 9   likes                  99003 non-null  int64  \n",
      " 10  likes_received         99003 non-null  int64  \n",
      " 11  mobile_likes           99003 non-null  int64  \n",
      " 12  mobile_likes_received  99003 non-null  int64  \n",
      " 13  www_likes              99003 non-null  int64  \n",
      " 14  www_likes_received     99003 non-null  int64  \n",
      "dtypes: float64(1), int64(13), object(1)\n",
      "memory usage: 11.3+ MB\n"
     ]
    }
   ],
   "source": [
    "facebook_df.info()"
   ]
  },
  {
   "cell_type": "markdown",
   "metadata": {},
   "source": [
    "- There are 175 cells where gender is missing. But we are not bothered about it because it is a very small % of the whole data."
   ]
  },
  {
   "cell_type": "markdown",
   "metadata": {
    "colab_type": "text",
    "id": "taDvvLa9q-5p"
   },
   "source": [
    "---\n",
    "<a name = Section8></a>\n",
    "# **8. Exploratory Data Analysis**\n",
    "---\n",
    "\n",
    "- This section is emphasised on asking the right questions and perform analysis using the data.\n",
    "\n",
    "- Note that there is no limit how deep you can go, but make sure not to get distracted from right track."
   ]
  },
  {
   "cell_type": "code",
   "execution_count": 12,
   "metadata": {
    "colab": {},
    "colab_type": "code",
    "id": "fwWa_FPerGCB"
   },
   "outputs": [
    {
     "data": {
      "image/png": "[encoded data removed]",
      "text/plain": [
       "<Figure size 576x396 with 1 Axes>"
      ]
     },
     "metadata": {},
     "output_type": "display_data"
    }
   ],
   "source": [
    "import pandas_profiling\n",
    "plt.style.use('seaborn')\n",
    "minAge=facebook_df['age'].min()\n",
    "maxAge=facebook_df['age'].max()\n",
    "ranges = np.arange(10,maxAge,10)\n",
    "fb_AgeCount=facebook_df.groupby(pd.cut(facebook_df['age'],ranges))['age'].count().reset_index(name=\"count\")\n",
    "plotAge = fb_AgeCount.plot.bar(x='age', y='count', rot=90)"
   ]
  },
  {
   "cell_type": "markdown",
   "metadata": {},
   "source": [
    "- There are more Facebook users in the age group 10-30"
   ]
  },
  {
   "cell_type": "markdown",
   "metadata": {},
   "source": [
    "**Age group and gender of users**"
   ]
  },
  {
   "cell_type": "code",
   "execution_count": 14,
   "metadata": {},
   "outputs": [
    {
     "data": {
      "image/png": "[encoded data removed]",
      "text/plain": [
       "<Figure size 576x396 with 1 Axes>"
      ]
     },
     "metadata": {},
     "output_type": "display_data"
    }
   ],
   "source": [
    "tmp2 = facebook_df.groupby(['age','gender'])['age'].count().reset_index(name=\"Count\")\n",
    "tmp3 = tmp2.groupby([pd.cut(tmp2['age'],ranges),'gender'])['Count'].sum().reset_index(name='Count')\n",
    "tmp4 = pd.pivot_table(tmp3, values='Count', index=['age'],columns=['gender'], aggfunc=np.sum)\n",
    "ax = tmp4.plot.bar(rot=90, stacked = False)"
   ]
  },
  {
   "cell_type": "markdown",
   "metadata": {},
   "source": [
    "- There are more Male users than female users in the age group 10-50"
   ]
  },
  {
   "cell_type": "markdown",
   "metadata": {},
   "source": [
    "**Friends Count**"
   ]
  },
  {
   "cell_type": "code",
   "execution_count": 16,
   "metadata": {},
   "outputs": [
    {
     "data": {
      "text/plain": [
       "<matplotlib.axes._subplots.AxesSubplot at 0x1b4488834f0>"
      ]
     },
     "execution_count": 16,
     "metadata": {},
     "output_type": "execute_result"
    },
    {
     "data": {
      "image/png": "[encoded data removed]",
      "text/plain": [
       "<Figure size 576x396 with 1 Axes>"
      ]
     },
     "metadata": {},
     "output_type": "display_data"
    }
   ],
   "source": [
    "labels=['10-20','21-30','31-40','41-50','51-60','61-70','71-80','81-90','91-100','101-110','111-120']\n",
    "facebook_df['age_group'] = pd.cut(facebook_df.age,bins=np.arange(10,121,10),labels=labels,right=True)\n",
    "facebook_df.head()\n",
    "sns.barplot(x=facebook_df['age_group'],y=facebook_df['friend_count'],hue=facebook_df.gender)"
   ]
  },
  {
   "cell_type": "markdown",
   "metadata": {},
   "source": [
    "- Female users in the age group 10 - 60 have more friends count. But in the age group 70-120 Male users have more friends count."
   ]
  },
  {
   "cell_type": "markdown",
   "metadata": {},
   "source": [
    "**Users in the last 5 years**"
   ]
  },
  {
   "cell_type": "code",
   "execution_count": 17,
   "metadata": {},
   "outputs": [
    {
     "data": {
      "text/plain": [
       "<matplotlib.axes._subplots.AxesSubplot at 0x1b44885da90>"
      ]
     },
     "execution_count": 17,
     "metadata": {},
     "output_type": "execute_result"
    },
    {
     "data": {
      "image/png": "[encoded data removed]",
      "text/plain": [
       "<Figure size 576x396 with 1 Axes>"
      ]
     },
     "metadata": {},
     "output_type": "display_data"
    }
   ],
   "source": [
    "labels = 'male', 'female'\n",
    "df_recentUsers = facebook_df[(facebook_df['tenure'] >=0) & (facebook_df['tenure']<=730)]\n",
    "df_recentCount = df_recentUsers.groupby(['age_group','gender'])['age_group'].count().reset_index(name='recent_cnt')\n",
    "df_recentCount\n",
    "sns.scatterplot(data=df_recentCount, x='age_group', y='recent_cnt', hue='gender')"
   ]
  },
  {
   "cell_type": "markdown",
   "metadata": {},
   "source": [
    "- More Male users in the age group 10-40 joined facebook in the last 5 years."
   ]
  },
  {
   "cell_type": "markdown",
   "metadata": {},
   "source": [
    "**Mobile vs Web users**"
   ]
  },
  {
   "cell_type": "code",
   "execution_count": 19,
   "metadata": {},
   "outputs": [
    {
     "data": {
      "text/plain": [
       "([<matplotlib.patches.Wedge at 0x1b448c7e4c0>,\n",
       "  <matplotlib.patches.Wedge at 0x1b448c7ebb0>],\n",
       " [Text(-0.6376663734288491, -1.0165537842131618, 'Mobile users'),\n",
       "  Text(0.5845275089764451, 0.931840968862065, 'Web users')],\n",
       " [Text(-0.37197205116682863, -0.5929897074576778, '54.4%'),\n",
       "  Text(0.31883318671442457, 0.5082768921065809, '45.6%')])"
      ]
     },
     "execution_count": 19,
     "metadata": {},
     "output_type": "execute_result"
    },
    {
     "data": {
      "image/png": "[encoded data removed]",
      "text/plain": [
       "<Figure size 576x396 with 1 Axes>"
      ]
     },
     "metadata": {},
     "output_type": "display_data"
    }
   ],
   "source": [
    "df_moreMobileUsers = facebook_df[(facebook_df['mobile_likes'] > facebook_df['www_likes'])]\n",
    "len(df_moreMobileUsers)\n",
    "len(facebook_df)\n",
    "listMobUsers = [len(df_moreMobileUsers), len(facebook_df) - len(df_moreMobileUsers)]\n",
    "listMobUsers\n",
    "labels = 'Mobile users','Web users'\n",
    "colors = ['yellowgreen', 'lightskyblue']\n",
    "explode = (0.1, 0)  # explode 1st slice\n",
    "plt.pie(listMobUsers, explode=explode, labels=labels, colors=colors,\n",
    "autopct='%1.1f%%', shadow=True, startangle=140)"
   ]
  },
  {
   "cell_type": "markdown",
   "metadata": {},
   "source": [
    "- 54.4% users use Mobile app more than web."
   ]
  },
  {
   "cell_type": "code",
   "execution_count": 20,
   "metadata": {},
   "outputs": [
    {
     "data": {
      "text/plain": [
       "([<matplotlib.patches.Wedge at 0x1b448cbe730>,\n",
       "  <matplotlib.patches.Wedge at 0x1b448cbee20>],\n",
       " [Text(-0.9093426112023272, -0.7830044798414206, 'female'),\n",
       "  Text(0.8335640602687999, 0.7177541065213021, 'male')],\n",
       " [Text(-0.5304498565346908, -0.45675261324082866, '44.9%'),\n",
       "  Text(0.45467130560116353, 0.3915022399207102, '55.1%')])"
      ]
     },
     "execution_count": 20,
     "metadata": {},
     "output_type": "execute_result"
    },
    {
     "data": {
      "image/png": "[encoded data removed]",
      "text/plain": [
       "<Figure size 576x396 with 1 Axes>"
      ]
     },
     "metadata": {},
     "output_type": "display_data"
    }
   ],
   "source": [
    "dfMaleFemaleMobUsers = df_moreMobileUsers.groupby(df_moreMobileUsers['gender'])['mobile_likes'].count().reset_index()\n",
    "labels = 'female','male'\n",
    "colors = ['pink', 'green']\n",
    "explode = (0.1, 0)  # explode 1st slice\n",
    "plt.pie(dfMaleFemaleMobUsers['mobile_likes'], explode=explode, labels=labels, colors=colors,\n",
    "autopct='%1.1f%%', shadow=True, startangle=140)"
   ]
  },
  {
   "cell_type": "markdown",
   "metadata": {},
   "source": [
    "- Out of the users who use Mobile app more, 56% are male and 44.9% are female users."
   ]
  },
  {
   "cell_type": "markdown",
   "metadata": {},
   "source": [
    "**Popular users**"
   ]
  },
  {
   "cell_type": "code",
   "execution_count": 26,
   "metadata": {},
   "outputs": [
    {
     "data": {
      "image/png": "[encoded data removed]",
      "text/plain": [
       "<Figure size 576x396 with 1 Axes>"
      ]
     },
     "metadata": {},
     "output_type": "display_data"
    }
   ],
   "source": [
    "facebook_df['likes_per_day'] = facebook_df['likes_received']/facebook_df['tenure'].where(facebook_df.tenure>0)\n",
    "colours={\"male\": \"skyblue\", \"female\": \"lightpink\"}\n",
    "mostFamous = facebook_df.sort_values(by='likes_per_day',ascending=False)[:10]\n",
    "mostFamous.plot(x='userid',y='likes_per_day', kind='bar', color=mostFamous['gender'].replace(colours)).legend(\n",
    "    [\n",
    "        Patch(facecolor=colours['male']),\n",
    "        Patch(facecolor=colours['female'])\n",
    "    ], [\"male\", \"female\"])\n",
    "plt.title(\"Max likes per day\")\n",
    "plt.show()"
   ]
  },
  {
   "cell_type": "markdown",
   "metadata": {},
   "source": [
    "- User 1149300 is the most popular user as she has clicked most likes per day "
   ]
  },
  {
   "cell_type": "code",
   "execution_count": null,
   "metadata": {},
   "outputs": [],
   "source": [
    "**Most Active users**"
   ]
  },
  {
   "cell_type": "markdown",
   "metadata": {
    "colab_type": "text",
    "id": "Pqk4cV2wrIIZ"
   },
   "source": [
    "---\n",
    "<a name = Section9></a>\n",
    "# **9. Summarization**\n",
    "---"
   ]
  },
  {
   "cell_type": "markdown",
   "metadata": {
    "colab_type": "text",
    "id": "wducAS9QrPfZ"
   },
   "source": [
    "<a name = Section91></a>\n",
    "### **9.1 Conclusion**\n",
    "\n",
    "- In this part you need to provide a conclusion about your overall analysis.\n",
    "\n",
    "- Write down some short points that you have observed so far."
   ]
  },
  {
   "cell_type": "markdown",
   "metadata": {
    "colab_type": "text",
    "id": "z3MtiiACrVJq"
   },
   "source": [
    "<a name = Section92></a>\n",
    "### **9.2 Actionable Insights**\n",
    "\n",
    "- This is a very crucial part where you will present your actionable insights.\n",
    "- You need to give suggestions about what could be applied and what not.\n",
    "- Make sure that these suggestions are short and to the point, ultimately it's a catalyst to your business."
   ]
  }
 ],
 "metadata": {
  "colab": {
   "authorship_tag": "ABX9TyPYnAdiY7Enody0No4RXYaD",
   "collapsed_sections": [],
   "name": "Analysis on Facebook Utilization.ipynb",
   "provenance": []
  },
  "kernelspec": {
   "display_name": "Python 3",
   "language": "python",
   "name": "python3"
  },
  "language_info": {
   "codemirror_mode": {
    "name": "ipython",
    "version": 3
   },
   "file_extension": ".py",
   "mimetype": "text/x-python",
   "name": "python",
   "nbconvert_exporter": "python",
   "pygments_lexer": "ipython3",
   "version": "3.8.3"
  }
 },
 "nbformat": 4,
 "nbformat_minor": 1
}
